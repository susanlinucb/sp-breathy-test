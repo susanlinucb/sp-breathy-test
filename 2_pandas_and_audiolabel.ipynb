{
 "cells": [
  {
   "cell_type": "code",
   "execution_count": 1,
   "id": "infinite-bailey",
   "metadata": {},
   "outputs": [],
   "source": [
    "import parselmouth as ps\n",
    "from parselmouth.praat import call as pcall  \n",
    "import audiolabel\n",
    "import pandas as pd"
   ]
  },
  {
   "cell_type": "markdown",
   "id": "tired-triple",
   "metadata": {},
   "source": [
    "This notebook assumes that these files are located in the same directory as the notebook. If your files are in another location, or if you want to use different audiofiles, you can point your script to new places."
   ]
  },
  {
   "cell_type": "code",
   "execution_count": 2,
   "id": "demonstrated-palestine",
   "metadata": {},
   "outputs": [],
   "source": [
    "breathyfile = './21_06_25_TikTok_14_mono.wav'\n",
    "modalfile = './21_6_25_mestres_modal.wav'\n",
    "breathytest = ps.Sound(breathyfile)\n",
    "modaltest = ps.Sound(modalfile)"
   ]
  },
  {
   "cell_type": "markdown",
   "id": "czech-beverage",
   "metadata": {},
   "source": [
    "- For this notebook, there is one new TextGrid, '21_06_25_TikTok_14.TextGrid', which will supplement the old TextGrid (which has the vowels marked in it).\n",
    "- The TextGrid '21_6_25_mestres_modal.TextGrid' has been modified to include the two additional tiers that appear in the other TextGrids, indicating where the post-IP break occurs (SP) and any notable voice quality changes during the lead up to the IP break."
   ]
  },
  {
   "cell_type": "code",
   "execution_count": 3,
   "id": "entitled-candy",
   "metadata": {},
   "outputs": [],
   "source": [
    "tg_breathy = audiolabel.LabelManager(from_file='./21_06_25_TikTok_14_mono.TextGrid', from_type='praat')\n",
    "tg_breathy_adtl = audiolabel.LabelManager(from_file='./21_06_25_TikTok_14.TextGrid', from_type='praat') # this is the new one\n",
    "tg_modal = audiolabel.LabelManager(from_file='./21_6_25_mestres_modal.TextGrid', from_type='praat') # this one has been altered"
   ]
  },
  {
   "cell_type": "markdown",
   "id": "wrapped-giant",
   "metadata": {},
   "source": [
    "As before, we'll use the `Parselmouth` to do calculate HNR. (Nothing new here!)"
   ]
  },
  {
   "cell_type": "code",
   "execution_count": 4,
   "id": "appropriate-malpractice",
   "metadata": {},
   "outputs": [],
   "source": [
    "h_breathy = breathytest.to_harmonicity_cc()\n",
    "h_modal = modaltest.to_harmonicity_cc()"
   ]
  },
  {
   "cell_type": "markdown",
   "id": "serial-calvin",
   "metadata": {},
   "source": [
    "We'll use a method from `audiolabel` on `Label` objects, `as_df`, to turn the TextGrid files into lists of `Pandas` dataframes. \n",
    "\n",
    "This first TG is the same as the one we worked with last week, and has only one tier. So it is a list with a single dataframe."
   ]
  },
  {
   "cell_type": "code",
   "execution_count": 5,
   "id": "combined-concentration",
   "metadata": {},
   "outputs": [
    {
     "data": {
      "text/plain": [
       "[          t1         t2 text   duration     center\n",
       " 0   0.000000  10.306042       10.306042   5.153021\n",
       " 1  10.306042  10.449255    4   0.143213  10.377648\n",
       " 2  10.449255  10.540974        0.091719  10.495114\n",
       " 3  10.540974  10.584227    3   0.043253  10.562600\n",
       " 4  10.584227  10.700680        0.116454  10.642454\n",
       " 5  10.700680  10.742117    2   0.041437  10.721399\n",
       " 6  10.742117  10.888221        0.146104  10.815169\n",
       " 7  10.888221  10.946052    1   0.057831  10.917137\n",
       " 8  10.946052  19.930979        8.984927  15.438516]"
      ]
     },
     "execution_count": 5,
     "metadata": {},
     "output_type": "execute_result"
    }
   ],
   "source": [
    "tg_breathy.as_df()"
   ]
  },
  {
   "cell_type": "markdown",
   "id": "reasonable-parish",
   "metadata": {},
   "source": [
    "This next one is the supplemental TG for the same breathy audio file, and as you can see here it is a list of two dataframes, one for each tier. "
   ]
  },
  {
   "cell_type": "code",
   "execution_count": 6,
   "id": "sharing-least",
   "metadata": {},
   "outputs": [
    {
     "data": {
      "text/plain": [
       "[          t1         t2 text   duration     center\n",
       " 0   0.000000  11.173687       11.173687   5.586844\n",
       " 1  11.173687  12.354081  SP    1.180394  11.763884\n",
       " 2  12.354081  19.930979        7.576898  16.142530,\n",
       "           t1         t2     text   duration     center\n",
       " 0   0.000000  10.873734           10.873734   5.436867\n",
       " 1  10.873734  11.173687  whisper   0.299953  11.023711\n",
       " 2  11.173687  19.930979            8.757292  15.552333]"
      ]
     },
     "execution_count": 6,
     "metadata": {},
     "output_type": "execute_result"
    }
   ],
   "source": [
    "tg_breathy_adtl.as_df()"
   ]
  },
  {
   "cell_type": "markdown",
   "id": "intense-petersburg",
   "metadata": {},
   "source": [
    "Note that there's no information about the names of the tiers here though. So it's actually probably easier to track what's going on if we first access the tier, and _then_ turn it into a dataframe. Like so:"
   ]
  },
  {
   "cell_type": "code",
   "execution_count": 7,
   "id": "friendly-jurisdiction",
   "metadata": {},
   "outputs": [
    {
     "data": {
      "text/html": [
       "<div>\n",
       "<style scoped>\n",
       "    .dataframe tbody tr th:only-of-type {\n",
       "        vertical-align: middle;\n",
       "    }\n",
       "\n",
       "    .dataframe tbody tr th {\n",
       "        vertical-align: top;\n",
       "    }\n",
       "\n",
       "    .dataframe thead th {\n",
       "        text-align: right;\n",
       "    }\n",
       "</style>\n",
       "<table border=\"1\" class=\"dataframe\">\n",
       "  <thead>\n",
       "    <tr style=\"text-align: right;\">\n",
       "      <th></th>\n",
       "      <th>t1</th>\n",
       "      <th>t2</th>\n",
       "      <th>text</th>\n",
       "      <th>duration</th>\n",
       "      <th>center</th>\n",
       "    </tr>\n",
       "  </thead>\n",
       "  <tbody>\n",
       "    <tr>\n",
       "      <th>0</th>\n",
       "      <td>0.000000</td>\n",
       "      <td>10.873734</td>\n",
       "      <td></td>\n",
       "      <td>10.873734</td>\n",
       "      <td>5.436867</td>\n",
       "    </tr>\n",
       "    <tr>\n",
       "      <th>1</th>\n",
       "      <td>10.873734</td>\n",
       "      <td>11.173687</td>\n",
       "      <td>whisper</td>\n",
       "      <td>0.299953</td>\n",
       "      <td>11.023711</td>\n",
       "    </tr>\n",
       "    <tr>\n",
       "      <th>2</th>\n",
       "      <td>11.173687</td>\n",
       "      <td>19.930979</td>\n",
       "      <td></td>\n",
       "      <td>8.757292</td>\n",
       "      <td>15.552333</td>\n",
       "    </tr>\n",
       "  </tbody>\n",
       "</table>\n",
       "</div>"
      ],
      "text/plain": [
       "          t1         t2     text   duration     center\n",
       "0   0.000000  10.873734           10.873734   5.436867\n",
       "1  10.873734  11.173687  whisper   0.299953  11.023711\n",
       "2  11.173687  19.930979            8.757292  15.552333"
      ]
     },
     "execution_count": 7,
     "metadata": {},
     "output_type": "execute_result"
    }
   ],
   "source": [
    "tg_breathy_adtl.tier('whisper').as_df()"
   ]
  },
  {
   "cell_type": "markdown",
   "id": "amended-discount",
   "metadata": {},
   "source": [
    "Now, let's create a starting dataframe from the vowels tier of the breathy textgrid."
   ]
  },
  {
   "cell_type": "code",
   "execution_count": 8,
   "id": "caroline-physics",
   "metadata": {},
   "outputs": [
    {
     "data": {
      "text/html": [
       "<div>\n",
       "<style scoped>\n",
       "    .dataframe tbody tr th:only-of-type {\n",
       "        vertical-align: middle;\n",
       "    }\n",
       "\n",
       "    .dataframe tbody tr th {\n",
       "        vertical-align: top;\n",
       "    }\n",
       "\n",
       "    .dataframe thead th {\n",
       "        text-align: right;\n",
       "    }\n",
       "</style>\n",
       "<table border=\"1\" class=\"dataframe\">\n",
       "  <thead>\n",
       "    <tr style=\"text-align: right;\">\n",
       "      <th></th>\n",
       "      <th>t1</th>\n",
       "      <th>t2</th>\n",
       "      <th>text</th>\n",
       "      <th>duration</th>\n",
       "      <th>center</th>\n",
       "    </tr>\n",
       "  </thead>\n",
       "  <tbody>\n",
       "    <tr>\n",
       "      <th>0</th>\n",
       "      <td>0.000000</td>\n",
       "      <td>10.306042</td>\n",
       "      <td></td>\n",
       "      <td>10.306042</td>\n",
       "      <td>5.153021</td>\n",
       "    </tr>\n",
       "    <tr>\n",
       "      <th>1</th>\n",
       "      <td>10.306042</td>\n",
       "      <td>10.449255</td>\n",
       "      <td>4</td>\n",
       "      <td>0.143213</td>\n",
       "      <td>10.377648</td>\n",
       "    </tr>\n",
       "    <tr>\n",
       "      <th>2</th>\n",
       "      <td>10.449255</td>\n",
       "      <td>10.540974</td>\n",
       "      <td></td>\n",
       "      <td>0.091719</td>\n",
       "      <td>10.495114</td>\n",
       "    </tr>\n",
       "    <tr>\n",
       "      <th>3</th>\n",
       "      <td>10.540974</td>\n",
       "      <td>10.584227</td>\n",
       "      <td>3</td>\n",
       "      <td>0.043253</td>\n",
       "      <td>10.562600</td>\n",
       "    </tr>\n",
       "    <tr>\n",
       "      <th>4</th>\n",
       "      <td>10.584227</td>\n",
       "      <td>10.700680</td>\n",
       "      <td></td>\n",
       "      <td>0.116454</td>\n",
       "      <td>10.642454</td>\n",
       "    </tr>\n",
       "    <tr>\n",
       "      <th>5</th>\n",
       "      <td>10.700680</td>\n",
       "      <td>10.742117</td>\n",
       "      <td>2</td>\n",
       "      <td>0.041437</td>\n",
       "      <td>10.721399</td>\n",
       "    </tr>\n",
       "    <tr>\n",
       "      <th>6</th>\n",
       "      <td>10.742117</td>\n",
       "      <td>10.888221</td>\n",
       "      <td></td>\n",
       "      <td>0.146104</td>\n",
       "      <td>10.815169</td>\n",
       "    </tr>\n",
       "    <tr>\n",
       "      <th>7</th>\n",
       "      <td>10.888221</td>\n",
       "      <td>10.946052</td>\n",
       "      <td>1</td>\n",
       "      <td>0.057831</td>\n",
       "      <td>10.917137</td>\n",
       "    </tr>\n",
       "    <tr>\n",
       "      <th>8</th>\n",
       "      <td>10.946052</td>\n",
       "      <td>19.930979</td>\n",
       "      <td></td>\n",
       "      <td>8.984927</td>\n",
       "      <td>15.438516</td>\n",
       "    </tr>\n",
       "  </tbody>\n",
       "</table>\n",
       "</div>"
      ],
      "text/plain": [
       "          t1         t2 text   duration     center\n",
       "0   0.000000  10.306042       10.306042   5.153021\n",
       "1  10.306042  10.449255    4   0.143213  10.377648\n",
       "2  10.449255  10.540974        0.091719  10.495114\n",
       "3  10.540974  10.584227    3   0.043253  10.562600\n",
       "4  10.584227  10.700680        0.116454  10.642454\n",
       "5  10.700680  10.742117    2   0.041437  10.721399\n",
       "6  10.742117  10.888221        0.146104  10.815169\n",
       "7  10.888221  10.946052    1   0.057831  10.917137\n",
       "8  10.946052  19.930979        8.984927  15.438516"
      ]
     },
     "execution_count": 8,
     "metadata": {},
     "output_type": "execute_result"
    }
   ],
   "source": [
    "breathydf = tg_breathy.tier('vowels').as_df()\n",
    "breathydf"
   ]
  },
  {
   "cell_type": "markdown",
   "id": "regulated-draft",
   "metadata": {},
   "source": [
    "Notice though that this includes a bunch of intervals that are unlabeled. We don't want these though, so let's remove them."
   ]
  },
  {
   "cell_type": "code",
   "execution_count": 9,
   "id": "automated-subject",
   "metadata": {},
   "outputs": [
    {
     "data": {
      "text/html": [
       "<div>\n",
       "<style scoped>\n",
       "    .dataframe tbody tr th:only-of-type {\n",
       "        vertical-align: middle;\n",
       "    }\n",
       "\n",
       "    .dataframe tbody tr th {\n",
       "        vertical-align: top;\n",
       "    }\n",
       "\n",
       "    .dataframe thead th {\n",
       "        text-align: right;\n",
       "    }\n",
       "</style>\n",
       "<table border=\"1\" class=\"dataframe\">\n",
       "  <thead>\n",
       "    <tr style=\"text-align: right;\">\n",
       "      <th></th>\n",
       "      <th>t1</th>\n",
       "      <th>t2</th>\n",
       "      <th>text</th>\n",
       "      <th>duration</th>\n",
       "      <th>center</th>\n",
       "    </tr>\n",
       "  </thead>\n",
       "  <tbody>\n",
       "    <tr>\n",
       "      <th>1</th>\n",
       "      <td>10.306042</td>\n",
       "      <td>10.449255</td>\n",
       "      <td>4</td>\n",
       "      <td>0.143213</td>\n",
       "      <td>10.377648</td>\n",
       "    </tr>\n",
       "    <tr>\n",
       "      <th>3</th>\n",
       "      <td>10.540974</td>\n",
       "      <td>10.584227</td>\n",
       "      <td>3</td>\n",
       "      <td>0.043253</td>\n",
       "      <td>10.562600</td>\n",
       "    </tr>\n",
       "    <tr>\n",
       "      <th>5</th>\n",
       "      <td>10.700680</td>\n",
       "      <td>10.742117</td>\n",
       "      <td>2</td>\n",
       "      <td>0.041437</td>\n",
       "      <td>10.721399</td>\n",
       "    </tr>\n",
       "    <tr>\n",
       "      <th>7</th>\n",
       "      <td>10.888221</td>\n",
       "      <td>10.946052</td>\n",
       "      <td>1</td>\n",
       "      <td>0.057831</td>\n",
       "      <td>10.917137</td>\n",
       "    </tr>\n",
       "  </tbody>\n",
       "</table>\n",
       "</div>"
      ],
      "text/plain": [
       "          t1         t2 text  duration     center\n",
       "1  10.306042  10.449255    4  0.143213  10.377648\n",
       "3  10.540974  10.584227    3  0.043253  10.562600\n",
       "5  10.700680  10.742117    2  0.041437  10.721399\n",
       "7  10.888221  10.946052    1  0.057831  10.917137"
      ]
     },
     "execution_count": 9,
     "metadata": {},
     "output_type": "execute_result"
    }
   ],
   "source": [
    "breathydf = breathydf[breathydf.text!='']\n",
    "breathydf"
   ]
  },
  {
   "cell_type": "markdown",
   "id": "qualified-hundred",
   "metadata": {},
   "source": [
    "You may want to be able to add other information that is contained either in the names of the files (e.g. speaker ID, or recording date) or in the annotations in the TextGrid (e.g. vowel quality, voice quality, word ID, etc). \n",
    "\n",
    "Here is how you can access information in the labels of the TextGrids at a given time."
   ]
  },
  {
   "cell_type": "code",
   "execution_count": 10,
   "id": "diverse-accommodation",
   "metadata": {},
   "outputs": [
    {
     "data": {
      "text/plain": [
       "Ret(text=Label( t1=0.0000, t2=11.1737, text='b''' ), whisper=Label( t1=10.8737, t2=11.1737, text='b'whisper'' ))"
      ]
     },
     "execution_count": 10,
     "metadata": {},
     "output_type": "execute_result"
    }
   ],
   "source": [
    "tg_breathy_adtl.labels_at(11) # This returns a \"named tuple\" of labels at time 11s"
   ]
  },
  {
   "cell_type": "markdown",
   "id": "talented-selling",
   "metadata": {},
   "source": [
    "The information in a \"named tuple\" can be accessed in several different ways, but one of them is by the names, like so. As you can see, this returns the Label object that had the name 'whisper'. (Here, 'whisper' is from the name of the tier, not the content of the label.) "
   ]
  },
  {
   "cell_type": "code",
   "execution_count": 11,
   "id": "numeric-binding",
   "metadata": {},
   "outputs": [
    {
     "data": {
      "text/html": [
       "<b>Label</b>( <b>t1</b>=10.8737, <b>t2</b>=11.1737, <b>text</b>='whisper' )"
      ],
      "text/plain": [
       "Label( t1=10.8737, t2=11.1737, text='b'whisper'' )"
      ]
     },
     "execution_count": 11,
     "metadata": {},
     "output_type": "execute_result"
    }
   ],
   "source": [
    "tg_breathy_adtl.labels_at(11).whisper "
   ]
  },
  {
   "cell_type": "markdown",
   "id": "substantial-sarah",
   "metadata": {},
   "source": [
    "This behaves just like a regular `Label` object, because it is a `Label` object! So we can access its time points as well as its text label."
   ]
  },
  {
   "cell_type": "code",
   "execution_count": 12,
   "id": "directed-facility",
   "metadata": {},
   "outputs": [
    {
     "data": {
      "text/plain": [
       "'whisper'"
      ]
     },
     "execution_count": 12,
     "metadata": {},
     "output_type": "execute_result"
    }
   ],
   "source": [
    "tg_breathy_adtl.labels_at(11).whisper.text"
   ]
  },
  {
   "cell_type": "markdown",
   "id": "signed-interpretation",
   "metadata": {},
   "source": [
    "So now we can use the `apply` function in `Pandas` to get the information on the \"whisper\" tier of the second textgrid in the breathy example for each of the vowels in our vowels dataframe, and add it to a new column of the dataframe. (Ignore the red Warning; it's not an Error, just a warning.)"
   ]
  },
  {
   "cell_type": "code",
   "execution_count": 13,
   "id": "sustainable-patio",
   "metadata": {},
   "outputs": [
    {
     "name": "stderr",
     "output_type": "stream",
     "text": [
      "<ipython-input-13-d3754edc3cc6>:1: SettingWithCopyWarning: \n",
      "A value is trying to be set on a copy of a slice from a DataFrame.\n",
      "Try using .loc[row_indexer,col_indexer] = value instead\n",
      "\n",
      "See the caveats in the documentation: https://pandas.pydata.org/pandas-docs/stable/user_guide/indexing.html#returning-a-view-versus-a-copy\n",
      "  breathydf['voice'] = breathydf.center.apply(lambda t: tg_breathy_adtl.labels_at(t).whisper.text)\n"
     ]
    },
    {
     "data": {
      "text/html": [
       "<div>\n",
       "<style scoped>\n",
       "    .dataframe tbody tr th:only-of-type {\n",
       "        vertical-align: middle;\n",
       "    }\n",
       "\n",
       "    .dataframe tbody tr th {\n",
       "        vertical-align: top;\n",
       "    }\n",
       "\n",
       "    .dataframe thead th {\n",
       "        text-align: right;\n",
       "    }\n",
       "</style>\n",
       "<table border=\"1\" class=\"dataframe\">\n",
       "  <thead>\n",
       "    <tr style=\"text-align: right;\">\n",
       "      <th></th>\n",
       "      <th>t1</th>\n",
       "      <th>t2</th>\n",
       "      <th>text</th>\n",
       "      <th>duration</th>\n",
       "      <th>center</th>\n",
       "      <th>voice</th>\n",
       "    </tr>\n",
       "  </thead>\n",
       "  <tbody>\n",
       "    <tr>\n",
       "      <th>1</th>\n",
       "      <td>10.306042</td>\n",
       "      <td>10.449255</td>\n",
       "      <td>4</td>\n",
       "      <td>0.143213</td>\n",
       "      <td>10.377648</td>\n",
       "      <td></td>\n",
       "    </tr>\n",
       "    <tr>\n",
       "      <th>3</th>\n",
       "      <td>10.540974</td>\n",
       "      <td>10.584227</td>\n",
       "      <td>3</td>\n",
       "      <td>0.043253</td>\n",
       "      <td>10.562600</td>\n",
       "      <td></td>\n",
       "    </tr>\n",
       "    <tr>\n",
       "      <th>5</th>\n",
       "      <td>10.700680</td>\n",
       "      <td>10.742117</td>\n",
       "      <td>2</td>\n",
       "      <td>0.041437</td>\n",
       "      <td>10.721399</td>\n",
       "      <td></td>\n",
       "    </tr>\n",
       "    <tr>\n",
       "      <th>7</th>\n",
       "      <td>10.888221</td>\n",
       "      <td>10.946052</td>\n",
       "      <td>1</td>\n",
       "      <td>0.057831</td>\n",
       "      <td>10.917137</td>\n",
       "      <td>whisper</td>\n",
       "    </tr>\n",
       "  </tbody>\n",
       "</table>\n",
       "</div>"
      ],
      "text/plain": [
       "          t1         t2 text  duration     center    voice\n",
       "1  10.306042  10.449255    4  0.143213  10.377648         \n",
       "3  10.540974  10.584227    3  0.043253  10.562600         \n",
       "5  10.700680  10.742117    2  0.041437  10.721399         \n",
       "7  10.888221  10.946052    1  0.057831  10.917137  whisper"
      ]
     },
     "execution_count": 13,
     "metadata": {},
     "output_type": "execute_result"
    }
   ],
   "source": [
    "breathydf['voice'] = breathydf.center.apply(lambda t: tg_breathy_adtl.labels_at(t).whisper.text)\n",
    "breathydf"
   ]
  },
  {
   "cell_type": "markdown",
   "id": "formal-calgary",
   "metadata": {},
   "source": [
    "We may also want filename information in there, like this. There are many other bits of information you could put directly into the filename and then extract and put into the dataframe."
   ]
  },
  {
   "cell_type": "code",
   "execution_count": 14,
   "id": "disabled-parameter",
   "metadata": {},
   "outputs": [
    {
     "name": "stderr",
     "output_type": "stream",
     "text": [
      "<ipython-input-14-9baefbc8265c>:1: SettingWithCopyWarning: \n",
      "A value is trying to be set on a copy of a slice from a DataFrame.\n",
      "Try using .loc[row_indexer,col_indexer] = value instead\n",
      "\n",
      "See the caveats in the documentation: https://pandas.pydata.org/pandas-docs/stable/user_guide/indexing.html#returning-a-view-versus-a-copy\n",
      "  breathydf['file'] = breathyfile\n"
     ]
    },
    {
     "data": {
      "text/html": [
       "<div>\n",
       "<style scoped>\n",
       "    .dataframe tbody tr th:only-of-type {\n",
       "        vertical-align: middle;\n",
       "    }\n",
       "\n",
       "    .dataframe tbody tr th {\n",
       "        vertical-align: top;\n",
       "    }\n",
       "\n",
       "    .dataframe thead th {\n",
       "        text-align: right;\n",
       "    }\n",
       "</style>\n",
       "<table border=\"1\" class=\"dataframe\">\n",
       "  <thead>\n",
       "    <tr style=\"text-align: right;\">\n",
       "      <th></th>\n",
       "      <th>t1</th>\n",
       "      <th>t2</th>\n",
       "      <th>text</th>\n",
       "      <th>duration</th>\n",
       "      <th>center</th>\n",
       "      <th>voice</th>\n",
       "      <th>file</th>\n",
       "    </tr>\n",
       "  </thead>\n",
       "  <tbody>\n",
       "    <tr>\n",
       "      <th>1</th>\n",
       "      <td>10.306042</td>\n",
       "      <td>10.449255</td>\n",
       "      <td>4</td>\n",
       "      <td>0.143213</td>\n",
       "      <td>10.377648</td>\n",
       "      <td></td>\n",
       "      <td>./21_06_25_TikTok_14_mono.wav</td>\n",
       "    </tr>\n",
       "    <tr>\n",
       "      <th>3</th>\n",
       "      <td>10.540974</td>\n",
       "      <td>10.584227</td>\n",
       "      <td>3</td>\n",
       "      <td>0.043253</td>\n",
       "      <td>10.562600</td>\n",
       "      <td></td>\n",
       "      <td>./21_06_25_TikTok_14_mono.wav</td>\n",
       "    </tr>\n",
       "    <tr>\n",
       "      <th>5</th>\n",
       "      <td>10.700680</td>\n",
       "      <td>10.742117</td>\n",
       "      <td>2</td>\n",
       "      <td>0.041437</td>\n",
       "      <td>10.721399</td>\n",
       "      <td></td>\n",
       "      <td>./21_06_25_TikTok_14_mono.wav</td>\n",
       "    </tr>\n",
       "    <tr>\n",
       "      <th>7</th>\n",
       "      <td>10.888221</td>\n",
       "      <td>10.946052</td>\n",
       "      <td>1</td>\n",
       "      <td>0.057831</td>\n",
       "      <td>10.917137</td>\n",
       "      <td>whisper</td>\n",
       "      <td>./21_06_25_TikTok_14_mono.wav</td>\n",
       "    </tr>\n",
       "  </tbody>\n",
       "</table>\n",
       "</div>"
      ],
      "text/plain": [
       "          t1         t2 text  duration     center    voice  \\\n",
       "1  10.306042  10.449255    4  0.143213  10.377648            \n",
       "3  10.540974  10.584227    3  0.043253  10.562600            \n",
       "5  10.700680  10.742117    2  0.041437  10.721399            \n",
       "7  10.888221  10.946052    1  0.057831  10.917137  whisper   \n",
       "\n",
       "                            file  \n",
       "1  ./21_06_25_TikTok_14_mono.wav  \n",
       "3  ./21_06_25_TikTok_14_mono.wav  \n",
       "5  ./21_06_25_TikTok_14_mono.wav  \n",
       "7  ./21_06_25_TikTok_14_mono.wav  "
      ]
     },
     "execution_count": 14,
     "metadata": {},
     "output_type": "execute_result"
    }
   ],
   "source": [
    "breathydf['file'] = breathyfile\n",
    "breathydf"
   ]
  },
  {
   "cell_type": "code",
   "execution_count": 15,
   "id": "outside-singing",
   "metadata": {},
   "outputs": [
    {
     "data": {
      "text/html": [
       "<div>\n",
       "<style scoped>\n",
       "    .dataframe tbody tr th:only-of-type {\n",
       "        vertical-align: middle;\n",
       "    }\n",
       "\n",
       "    .dataframe tbody tr th {\n",
       "        vertical-align: top;\n",
       "    }\n",
       "\n",
       "    .dataframe thead th {\n",
       "        text-align: right;\n",
       "    }\n",
       "</style>\n",
       "<table border=\"1\" class=\"dataframe\">\n",
       "  <thead>\n",
       "    <tr style=\"text-align: right;\">\n",
       "      <th></th>\n",
       "      <th>t1</th>\n",
       "      <th>t2</th>\n",
       "      <th>text</th>\n",
       "      <th>duration</th>\n",
       "      <th>center</th>\n",
       "      <th>voice</th>\n",
       "      <th>file</th>\n",
       "    </tr>\n",
       "  </thead>\n",
       "  <tbody>\n",
       "    <tr>\n",
       "      <th>1</th>\n",
       "      <td>7.730573</td>\n",
       "      <td>7.801286</td>\n",
       "      <td>4</td>\n",
       "      <td>0.070713</td>\n",
       "      <td>7.765930</td>\n",
       "      <td></td>\n",
       "      <td>./21_6_25_mestres_modal.wav</td>\n",
       "    </tr>\n",
       "    <tr>\n",
       "      <th>3</th>\n",
       "      <td>7.884021</td>\n",
       "      <td>7.969774</td>\n",
       "      <td>3</td>\n",
       "      <td>0.085753</td>\n",
       "      <td>7.926898</td>\n",
       "      <td></td>\n",
       "      <td>./21_6_25_mestres_modal.wav</td>\n",
       "    </tr>\n",
       "    <tr>\n",
       "      <th>5</th>\n",
       "      <td>8.094046</td>\n",
       "      <td>8.161063</td>\n",
       "      <td>2</td>\n",
       "      <td>0.067017</td>\n",
       "      <td>8.127555</td>\n",
       "      <td></td>\n",
       "      <td>./21_6_25_mestres_modal.wav</td>\n",
       "    </tr>\n",
       "    <tr>\n",
       "      <th>7</th>\n",
       "      <td>8.279621</td>\n",
       "      <td>8.390241</td>\n",
       "      <td>1</td>\n",
       "      <td>0.110620</td>\n",
       "      <td>8.334931</td>\n",
       "      <td>creaky</td>\n",
       "      <td>./21_6_25_mestres_modal.wav</td>\n",
       "    </tr>\n",
       "  </tbody>\n",
       "</table>\n",
       "</div>"
      ],
      "text/plain": [
       "         t1        t2 text  duration    center   voice  \\\n",
       "1  7.730573  7.801286    4  0.070713  7.765930           \n",
       "3  7.884021  7.969774    3  0.085753  7.926898           \n",
       "5  8.094046  8.161063    2  0.067017  8.127555           \n",
       "7  8.279621  8.390241    1  0.110620  8.334931  creaky   \n",
       "\n",
       "                          file  \n",
       "1  ./21_6_25_mestres_modal.wav  \n",
       "3  ./21_6_25_mestres_modal.wav  \n",
       "5  ./21_6_25_mestres_modal.wav  \n",
       "7  ./21_6_25_mestres_modal.wav  "
      ]
     },
     "execution_count": 15,
     "metadata": {},
     "output_type": "execute_result"
    }
   ],
   "source": [
    "modaldf = tg_modal.tier('vowels').as_df()\n",
    "modaldf = modaldf[modaldf.text!='']\n",
    "modaldf['voice'] = modaldf.center.apply(lambda t: tg_modal.labels_at(t).whisper.text)\n",
    "modaldf['file'] = modalfile\n",
    "modaldf"
   ]
  },
  {
   "cell_type": "markdown",
   "id": "auburn-remedy",
   "metadata": {},
   "source": [
    "Now, we can use the `apply` function again, combined with the Parselmouth commands we learned previously."
   ]
  },
  {
   "cell_type": "code",
   "execution_count": 16,
   "id": "blessed-inquiry",
   "metadata": {},
   "outputs": [
    {
     "name": "stderr",
     "output_type": "stream",
     "text": [
      "<ipython-input-16-5f82c21c59ae>:1: SettingWithCopyWarning: \n",
      "A value is trying to be set on a copy of a slice from a DataFrame.\n",
      "Try using .loc[row_indexer,col_indexer] = value instead\n",
      "\n",
      "See the caveats in the documentation: https://pandas.pydata.org/pandas-docs/stable/user_guide/indexing.html#returning-a-view-versus-a-copy\n",
      "  breathydf['hnr_mid']=breathydf.center.apply(lambda t: h_breathy.get_value(t))\n",
      "<ipython-input-16-5f82c21c59ae>:2: SettingWithCopyWarning: \n",
      "A value is trying to be set on a copy of a slice from a DataFrame.\n",
      "Try using .loc[row_indexer,col_indexer] = value instead\n",
      "\n",
      "See the caveats in the documentation: https://pandas.pydata.org/pandas-docs/stable/user_guide/indexing.html#returning-a-view-versus-a-copy\n",
      "  breathydf['hnr_mean']=breathydf.apply(lambda v: pcall(h_breathy, 'Get mean...', v.t1, v.t2), axis=1)\n"
     ]
    },
    {
     "data": {
      "text/html": [
       "<div>\n",
       "<style scoped>\n",
       "    .dataframe tbody tr th:only-of-type {\n",
       "        vertical-align: middle;\n",
       "    }\n",
       "\n",
       "    .dataframe tbody tr th {\n",
       "        vertical-align: top;\n",
       "    }\n",
       "\n",
       "    .dataframe thead th {\n",
       "        text-align: right;\n",
       "    }\n",
       "</style>\n",
       "<table border=\"1\" class=\"dataframe\">\n",
       "  <thead>\n",
       "    <tr style=\"text-align: right;\">\n",
       "      <th></th>\n",
       "      <th>t1</th>\n",
       "      <th>t2</th>\n",
       "      <th>text</th>\n",
       "      <th>duration</th>\n",
       "      <th>center</th>\n",
       "      <th>voice</th>\n",
       "      <th>file</th>\n",
       "      <th>hnr_mid</th>\n",
       "      <th>hnr_mean</th>\n",
       "    </tr>\n",
       "  </thead>\n",
       "  <tbody>\n",
       "    <tr>\n",
       "      <th>1</th>\n",
       "      <td>10.306042</td>\n",
       "      <td>10.449255</td>\n",
       "      <td>4</td>\n",
       "      <td>0.143213</td>\n",
       "      <td>10.377648</td>\n",
       "      <td></td>\n",
       "      <td>./21_06_25_TikTok_14_mono.wav</td>\n",
       "      <td>15.822534</td>\n",
       "      <td>8.789439</td>\n",
       "    </tr>\n",
       "    <tr>\n",
       "      <th>3</th>\n",
       "      <td>10.540974</td>\n",
       "      <td>10.584227</td>\n",
       "      <td>3</td>\n",
       "      <td>0.043253</td>\n",
       "      <td>10.562600</td>\n",
       "      <td></td>\n",
       "      <td>./21_06_25_TikTok_14_mono.wav</td>\n",
       "      <td>9.453398</td>\n",
       "      <td>7.446303</td>\n",
       "    </tr>\n",
       "    <tr>\n",
       "      <th>5</th>\n",
       "      <td>10.700680</td>\n",
       "      <td>10.742117</td>\n",
       "      <td>2</td>\n",
       "      <td>0.041437</td>\n",
       "      <td>10.721399</td>\n",
       "      <td></td>\n",
       "      <td>./21_06_25_TikTok_14_mono.wav</td>\n",
       "      <td>21.441211</td>\n",
       "      <td>4.346415</td>\n",
       "    </tr>\n",
       "    <tr>\n",
       "      <th>7</th>\n",
       "      <td>10.888221</td>\n",
       "      <td>10.946052</td>\n",
       "      <td>1</td>\n",
       "      <td>0.057831</td>\n",
       "      <td>10.917137</td>\n",
       "      <td>whisper</td>\n",
       "      <td>./21_06_25_TikTok_14_mono.wav</td>\n",
       "      <td>-200.000000</td>\n",
       "      <td>NaN</td>\n",
       "    </tr>\n",
       "  </tbody>\n",
       "</table>\n",
       "</div>"
      ],
      "text/plain": [
       "          t1         t2 text  duration     center    voice  \\\n",
       "1  10.306042  10.449255    4  0.143213  10.377648            \n",
       "3  10.540974  10.584227    3  0.043253  10.562600            \n",
       "5  10.700680  10.742117    2  0.041437  10.721399            \n",
       "7  10.888221  10.946052    1  0.057831  10.917137  whisper   \n",
       "\n",
       "                            file     hnr_mid  hnr_mean  \n",
       "1  ./21_06_25_TikTok_14_mono.wav   15.822534  8.789439  \n",
       "3  ./21_06_25_TikTok_14_mono.wav    9.453398  7.446303  \n",
       "5  ./21_06_25_TikTok_14_mono.wav   21.441211  4.346415  \n",
       "7  ./21_06_25_TikTok_14_mono.wav -200.000000       NaN  "
      ]
     },
     "execution_count": 16,
     "metadata": {},
     "output_type": "execute_result"
    }
   ],
   "source": [
    "breathydf['hnr_mid']=breathydf.center.apply(lambda t: h_breathy.get_value(t))\n",
    "breathydf['hnr_mean']=breathydf.apply(lambda v: pcall(h_breathy, 'Get mean...', v.t1, v.t2), axis=1)\n",
    "breathydf"
   ]
  },
  {
   "cell_type": "code",
   "execution_count": 17,
   "id": "miniature-joyce",
   "metadata": {},
   "outputs": [
    {
     "data": {
      "text/html": [
       "<div>\n",
       "<style scoped>\n",
       "    .dataframe tbody tr th:only-of-type {\n",
       "        vertical-align: middle;\n",
       "    }\n",
       "\n",
       "    .dataframe tbody tr th {\n",
       "        vertical-align: top;\n",
       "    }\n",
       "\n",
       "    .dataframe thead th {\n",
       "        text-align: right;\n",
       "    }\n",
       "</style>\n",
       "<table border=\"1\" class=\"dataframe\">\n",
       "  <thead>\n",
       "    <tr style=\"text-align: right;\">\n",
       "      <th></th>\n",
       "      <th>t1</th>\n",
       "      <th>t2</th>\n",
       "      <th>text</th>\n",
       "      <th>duration</th>\n",
       "      <th>center</th>\n",
       "      <th>voice</th>\n",
       "      <th>file</th>\n",
       "      <th>hnr_mid</th>\n",
       "      <th>hnr_mean</th>\n",
       "    </tr>\n",
       "  </thead>\n",
       "  <tbody>\n",
       "    <tr>\n",
       "      <th>1</th>\n",
       "      <td>7.730573</td>\n",
       "      <td>7.801286</td>\n",
       "      <td>4</td>\n",
       "      <td>0.070713</td>\n",
       "      <td>7.765930</td>\n",
       "      <td></td>\n",
       "      <td>./21_6_25_mestres_modal.wav</td>\n",
       "      <td>17.883930</td>\n",
       "      <td>14.413955</td>\n",
       "    </tr>\n",
       "    <tr>\n",
       "      <th>3</th>\n",
       "      <td>7.884021</td>\n",
       "      <td>7.969774</td>\n",
       "      <td>3</td>\n",
       "      <td>0.085753</td>\n",
       "      <td>7.926898</td>\n",
       "      <td></td>\n",
       "      <td>./21_6_25_mestres_modal.wav</td>\n",
       "      <td>25.477782</td>\n",
       "      <td>22.037220</td>\n",
       "    </tr>\n",
       "    <tr>\n",
       "      <th>5</th>\n",
       "      <td>8.094046</td>\n",
       "      <td>8.161063</td>\n",
       "      <td>2</td>\n",
       "      <td>0.067017</td>\n",
       "      <td>8.127555</td>\n",
       "      <td></td>\n",
       "      <td>./21_6_25_mestres_modal.wav</td>\n",
       "      <td>14.880742</td>\n",
       "      <td>10.698104</td>\n",
       "    </tr>\n",
       "    <tr>\n",
       "      <th>7</th>\n",
       "      <td>8.279621</td>\n",
       "      <td>8.390241</td>\n",
       "      <td>1</td>\n",
       "      <td>0.110620</td>\n",
       "      <td>8.334931</td>\n",
       "      <td>creaky</td>\n",
       "      <td>./21_6_25_mestres_modal.wav</td>\n",
       "      <td>11.753899</td>\n",
       "      <td>7.102502</td>\n",
       "    </tr>\n",
       "  </tbody>\n",
       "</table>\n",
       "</div>"
      ],
      "text/plain": [
       "         t1        t2 text  duration    center   voice  \\\n",
       "1  7.730573  7.801286    4  0.070713  7.765930           \n",
       "3  7.884021  7.969774    3  0.085753  7.926898           \n",
       "5  8.094046  8.161063    2  0.067017  8.127555           \n",
       "7  8.279621  8.390241    1  0.110620  8.334931  creaky   \n",
       "\n",
       "                          file    hnr_mid   hnr_mean  \n",
       "1  ./21_6_25_mestres_modal.wav  17.883930  14.413955  \n",
       "3  ./21_6_25_mestres_modal.wav  25.477782  22.037220  \n",
       "5  ./21_6_25_mestres_modal.wav  14.880742  10.698104  \n",
       "7  ./21_6_25_mestres_modal.wav  11.753899   7.102502  "
      ]
     },
     "execution_count": 17,
     "metadata": {},
     "output_type": "execute_result"
    }
   ],
   "source": [
    "modaldf['hnr_mid']=modaldf.center.apply(lambda t: h_modal.get_value(t))\n",
    "modaldf['hnr_mean']=modaldf.apply(lambda v: pcall(h_modal, 'Get mean...', v.t1, v.t2), axis=1)\n",
    "modaldf"
   ]
  },
  {
   "cell_type": "markdown",
   "id": "orange-coating",
   "metadata": {},
   "source": [
    "Now we can put together the dataframes into a single dataframe."
   ]
  },
  {
   "cell_type": "code",
   "execution_count": 18,
   "id": "earlier-storm",
   "metadata": {},
   "outputs": [
    {
     "data": {
      "text/html": [
       "<div>\n",
       "<style scoped>\n",
       "    .dataframe tbody tr th:only-of-type {\n",
       "        vertical-align: middle;\n",
       "    }\n",
       "\n",
       "    .dataframe tbody tr th {\n",
       "        vertical-align: top;\n",
       "    }\n",
       "\n",
       "    .dataframe thead th {\n",
       "        text-align: right;\n",
       "    }\n",
       "</style>\n",
       "<table border=\"1\" class=\"dataframe\">\n",
       "  <thead>\n",
       "    <tr style=\"text-align: right;\">\n",
       "      <th></th>\n",
       "      <th>t1</th>\n",
       "      <th>t2</th>\n",
       "      <th>text</th>\n",
       "      <th>duration</th>\n",
       "      <th>center</th>\n",
       "      <th>voice</th>\n",
       "      <th>file</th>\n",
       "      <th>hnr_mid</th>\n",
       "      <th>hnr_mean</th>\n",
       "    </tr>\n",
       "  </thead>\n",
       "  <tbody>\n",
       "    <tr>\n",
       "      <th>1</th>\n",
       "      <td>7.730573</td>\n",
       "      <td>7.801286</td>\n",
       "      <td>4</td>\n",
       "      <td>0.070713</td>\n",
       "      <td>7.765930</td>\n",
       "      <td></td>\n",
       "      <td>./21_6_25_mestres_modal.wav</td>\n",
       "      <td>17.883930</td>\n",
       "      <td>14.413955</td>\n",
       "    </tr>\n",
       "    <tr>\n",
       "      <th>3</th>\n",
       "      <td>7.884021</td>\n",
       "      <td>7.969774</td>\n",
       "      <td>3</td>\n",
       "      <td>0.085753</td>\n",
       "      <td>7.926898</td>\n",
       "      <td></td>\n",
       "      <td>./21_6_25_mestres_modal.wav</td>\n",
       "      <td>25.477782</td>\n",
       "      <td>22.037220</td>\n",
       "    </tr>\n",
       "    <tr>\n",
       "      <th>5</th>\n",
       "      <td>8.094046</td>\n",
       "      <td>8.161063</td>\n",
       "      <td>2</td>\n",
       "      <td>0.067017</td>\n",
       "      <td>8.127555</td>\n",
       "      <td></td>\n",
       "      <td>./21_6_25_mestres_modal.wav</td>\n",
       "      <td>14.880742</td>\n",
       "      <td>10.698104</td>\n",
       "    </tr>\n",
       "    <tr>\n",
       "      <th>7</th>\n",
       "      <td>8.279621</td>\n",
       "      <td>8.390241</td>\n",
       "      <td>1</td>\n",
       "      <td>0.110620</td>\n",
       "      <td>8.334931</td>\n",
       "      <td>creaky</td>\n",
       "      <td>./21_6_25_mestres_modal.wav</td>\n",
       "      <td>11.753899</td>\n",
       "      <td>7.102502</td>\n",
       "    </tr>\n",
       "    <tr>\n",
       "      <th>1</th>\n",
       "      <td>10.306042</td>\n",
       "      <td>10.449255</td>\n",
       "      <td>4</td>\n",
       "      <td>0.143213</td>\n",
       "      <td>10.377648</td>\n",
       "      <td></td>\n",
       "      <td>./21_06_25_TikTok_14_mono.wav</td>\n",
       "      <td>15.822534</td>\n",
       "      <td>8.789439</td>\n",
       "    </tr>\n",
       "    <tr>\n",
       "      <th>3</th>\n",
       "      <td>10.540974</td>\n",
       "      <td>10.584227</td>\n",
       "      <td>3</td>\n",
       "      <td>0.043253</td>\n",
       "      <td>10.562600</td>\n",
       "      <td></td>\n",
       "      <td>./21_06_25_TikTok_14_mono.wav</td>\n",
       "      <td>9.453398</td>\n",
       "      <td>7.446303</td>\n",
       "    </tr>\n",
       "    <tr>\n",
       "      <th>5</th>\n",
       "      <td>10.700680</td>\n",
       "      <td>10.742117</td>\n",
       "      <td>2</td>\n",
       "      <td>0.041437</td>\n",
       "      <td>10.721399</td>\n",
       "      <td></td>\n",
       "      <td>./21_06_25_TikTok_14_mono.wav</td>\n",
       "      <td>21.441211</td>\n",
       "      <td>4.346415</td>\n",
       "    </tr>\n",
       "    <tr>\n",
       "      <th>7</th>\n",
       "      <td>10.888221</td>\n",
       "      <td>10.946052</td>\n",
       "      <td>1</td>\n",
       "      <td>0.057831</td>\n",
       "      <td>10.917137</td>\n",
       "      <td>whisper</td>\n",
       "      <td>./21_06_25_TikTok_14_mono.wav</td>\n",
       "      <td>-200.000000</td>\n",
       "      <td>NaN</td>\n",
       "    </tr>\n",
       "  </tbody>\n",
       "</table>\n",
       "</div>"
      ],
      "text/plain": [
       "          t1         t2 text  duration     center    voice  \\\n",
       "1   7.730573   7.801286    4  0.070713   7.765930            \n",
       "3   7.884021   7.969774    3  0.085753   7.926898            \n",
       "5   8.094046   8.161063    2  0.067017   8.127555            \n",
       "7   8.279621   8.390241    1  0.110620   8.334931   creaky   \n",
       "1  10.306042  10.449255    4  0.143213  10.377648            \n",
       "3  10.540974  10.584227    3  0.043253  10.562600            \n",
       "5  10.700680  10.742117    2  0.041437  10.721399            \n",
       "7  10.888221  10.946052    1  0.057831  10.917137  whisper   \n",
       "\n",
       "                            file     hnr_mid   hnr_mean  \n",
       "1    ./21_6_25_mestres_modal.wav   17.883930  14.413955  \n",
       "3    ./21_6_25_mestres_modal.wav   25.477782  22.037220  \n",
       "5    ./21_6_25_mestres_modal.wav   14.880742  10.698104  \n",
       "7    ./21_6_25_mestres_modal.wav   11.753899   7.102502  \n",
       "1  ./21_06_25_TikTok_14_mono.wav   15.822534   8.789439  \n",
       "3  ./21_06_25_TikTok_14_mono.wav    9.453398   7.446303  \n",
       "5  ./21_06_25_TikTok_14_mono.wav   21.441211   4.346415  \n",
       "7  ./21_06_25_TikTok_14_mono.wav -200.000000        NaN  "
      ]
     },
     "execution_count": 18,
     "metadata": {},
     "output_type": "execute_result"
    }
   ],
   "source": [
    "alldf = modaldf.append(breathydf)\n",
    "alldf"
   ]
  },
  {
   "cell_type": "markdown",
   "id": "direct-scanning",
   "metadata": {},
   "source": [
    "Finally, we may want to save the dataframe to a CSV file or otherwise, so we can more easily use it in another application or share it with others."
   ]
  },
  {
   "cell_type": "code",
   "execution_count": 19,
   "id": "fluid-trash",
   "metadata": {},
   "outputs": [],
   "source": [
    "alldf.to_csv('./2_data.csv')"
   ]
  }
 ],
 "metadata": {
  "kernelspec": {
   "display_name": "Python 3",
   "language": "python",
   "name": "python3"
  },
  "language_info": {
   "codemirror_mode": {
    "name": "ipython",
    "version": 3
   },
   "file_extension": ".py",
   "mimetype": "text/x-python",
   "name": "python",
   "nbconvert_exporter": "python",
   "pygments_lexer": "ipython3",
   "version": "3.9.1"
  }
 },
 "nbformat": 4,
 "nbformat_minor": 5
}
