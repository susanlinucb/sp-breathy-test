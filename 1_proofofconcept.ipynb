{
 "cells": [
  {
   "cell_type": "code",
   "execution_count": 1,
   "id": "stupid-eclipse",
   "metadata": {},
   "outputs": [],
   "source": [
    "import parselmouth as ps\n",
    "from parselmouth.praat import call as pcall  \n",
    "import audiolabel # you may need to install this from https://github.com/rsprouse/audiolabel; email me if you get stuck!"
   ]
  },
  {
   "cell_type": "markdown",
   "id": "formed-stranger",
   "metadata": {},
   "source": [
    "This notebook assumes that there are at least the two following audiofiles in the same directory as the notebook. If your files are in another location, or if you want to use different audiofiles, you can point your script to new places."
   ]
  },
  {
   "cell_type": "code",
   "execution_count": 2,
   "id": "concrete-number",
   "metadata": {},
   "outputs": [
    {
     "data": {
      "text/plain": [
       "<parselmouth.Sound at 0x7fe1c3993370>"
      ]
     },
     "execution_count": 2,
     "metadata": {},
     "output_type": "execute_result"
    }
   ],
   "source": [
    "breathytest = ps.Sound('./21_06_25_TikTok_14_mono.wav') # ps.Sound is the equivalent of opening an audiofile\n",
    "modaltest = ps.Sound('./21_6_25_mestres_modal.wav')\n",
    "breathytest # breathytest and modaltest are the Parselmouth analogue to Sound objects in Praat"
   ]
  },
  {
   "cell_type": "code",
   "execution_count": 3,
   "id": "brutal-niagara",
   "metadata": {},
   "outputs": [
    {
     "data": {
      "text/plain": [
       "<parselmouth.Harmonicity at 0x7fe1c1c93af0>"
      ]
     },
     "execution_count": 3,
     "metadata": {},
     "output_type": "execute_result"
    }
   ],
   "source": [
    "# equivalent to selecting Analyze periodicity > to harmonicity. You can add the optional variable 'minimum_pitch' \n",
    "# to see what that changes if desired. (Uncomment these commands to play around!)\n",
    "h_breathy = breathytest.to_harmonicity_cc()\n",
    "# h_breathy = breathytest.to_harmonicity_cc(minimum_pitch=100)\n",
    "h_modal = modaltest.to_harmonicity_cc()\n",
    "# h_modal = modaltest.to_harmonicity_cc(minimum_pitch=100)\n",
    "h_breathy"
   ]
  },
  {
   "cell_type": "markdown",
   "id": "invalid-responsibility",
   "metadata": {},
   "source": [
    "I went ahead and created TextGrids for the two audio files we were playing around with, with a single interval tier 'vowels', with the labels 1-4, indicating how far from the transition they were. The following lines read these TextGrids in to a \"Label Manager\" object, which is from the package `audiolabel` which you can get on Ron's github https://github.com/rsprouse/audiolabel"
   ]
  },
  {
   "cell_type": "code",
   "execution_count": 4,
   "id": "laden-retention",
   "metadata": {},
   "outputs": [],
   "source": [
    "tg_breathy = audiolabel.LabelManager(from_file='./21_06_25_TikTok_14_mono.TextGrid', from_type='praat')\n",
    "tg_modal = audiolabel.LabelManager(from_file='./21_6_25_mestres_modal.TextGrid', from_type='praat')"
   ]
  },
  {
   "cell_type": "markdown",
   "id": "indie-scout",
   "metadata": {},
   "source": [
    "LabelManagers are basically lists of intervals or tiers. For interval tiers, each label consists of a start time (`t1`), an end time (`t2`) and a label (`text`). There are several other *really* cool things that `audiolabel` will let us do, and we'll see some of them as we move forward."
   ]
  },
  {
   "cell_type": "code",
   "execution_count": 5,
   "id": "endless-completion",
   "metadata": {},
   "outputs": [
    {
     "data": {
      "text/html": [
       "<p><b>IntervalTier</b>( <ul>[<li><b>Label</b>( <b>t1</b>=0.0000, <b>t2</b>=10.3060, <b>text</b>='' )</li><li><b>Label</b>( <b>t1</b>=10.3060, <b>t2</b>=10.4493, <b>text</b>='4' )</li><li><b>Label</b>( <b>t1</b>=10.4493, <b>t2</b>=10.5410, <b>text</b>='' )</li><li><b>Label</b>( <b>t1</b>=10.5410, <b>t2</b>=10.5842, <b>text</b>='3' )</li><li><b>Label</b>( <b>t1</b>=10.5842, <b>t2</b>=10.7007, <b>text</b>='' )</li><li><b>Label</b>( <b>t1</b>=10.7007, <b>t2</b>=10.7421, <b>text</b>='2' )</li><li><b>Label</b>( <b>t1</b>=10.7421, <b>t2</b>=10.8882, <b>text</b>='' )</li><li><b>Label</b>( <b>t1</b>=10.8882, <b>t2</b>=10.9461, <b>text</b>='1' )</li><li><b>Label</b>( <b>t1</b>=10.9461, <b>t2</b>=19.9310, <b>text</b>='' )</li>]</ul> )</p>"
      ],
      "text/plain": [
       "IntervalTier([Label( t1=0.0000, t2=10.3060, text='b''' ),Label( t1=10.3060, t2=10.4493, text='b'4'' ),Label( t1=10.4493, t2=10.5410, text='b''' ),Label( t1=10.5410, t2=10.5842, text='b'3'' ),Label( t1=10.5842, t2=10.7007, text='b''' ),Label( t1=10.7007, t2=10.7421, text='b'2'' ),Label( t1=10.7421, t2=10.8882, text='b''' ),Label( t1=10.8882, t2=10.9461, text='b'1'' ),Label( t1=10.9461, t2=19.9310, text='b''' )])"
      ]
     },
     "execution_count": 5,
     "metadata": {},
     "output_type": "execute_result"
    }
   ],
   "source": [
    "tg_breathy.tier('vowels')"
   ]
  },
  {
   "cell_type": "markdown",
   "id": "frequent-correlation",
   "metadata": {},
   "source": [
    "You'll notice that the above cell results in listing *all* of the intervals, but really we're only interested in the labelled tiers. Here's one way you could do that with some slightly fancy list/for action. (Python is particularly good at this kind of thing!)"
   ]
  },
  {
   "cell_type": "code",
   "execution_count": 6,
   "id": "little-parking",
   "metadata": {},
   "outputs": [
    {
     "data": {
      "text/plain": [
       "[Label( t1=10.3060, t2=10.4493, text='b'4'' ),\n",
       " Label( t1=10.5410, t2=10.5842, text='b'3'' ),\n",
       " Label( t1=10.7007, t2=10.7421, text='b'2'' ),\n",
       " Label( t1=10.8882, t2=10.9461, text='b'1'' )]"
      ]
     },
     "execution_count": 6,
     "metadata": {},
     "output_type": "execute_result"
    }
   ],
   "source": [
    "[v for v in tg_breathy.tier('vowels') if v.text!='']"
   ]
  },
  {
   "cell_type": "markdown",
   "id": "abstract-steel",
   "metadata": {},
   "source": [
    "Now we have all of the pieces we need to get the HNR values from the midpoints of each vowel. The following for loop goes through each of the vowel intervals with a non-empty label (see above), then gets the harmonicity values at midpoint, and prints the label, the time (to 3 decimal places), and the HNR values (to 2 decimal places)."
   ]
  },
  {
   "cell_type": "code",
   "execution_count": 7,
   "id": "surprised-bidder",
   "metadata": {},
   "outputs": [
    {
     "name": "stdout",
     "output_type": "stream",
     "text": [
      "4\t10.378\t15.82\n",
      "3\t10.563\t9.45\n",
      "2\t10.721\t21.44\n",
      "1\t10.917\t-200.00\n"
     ]
    }
   ],
   "source": [
    "for v in [v for v in tg_breathy.tier('vowels') if v.text!='']:\n",
    "    harm = h_breathy.get_value((v.t1+v.t2)/2)\n",
    "    label = v.text\n",
    "    print('\\t'.join([label, \"{:.3f}\".format((v.t1+v.t2)/2), \"{:.2f}\".format(harm)]))"
   ]
  },
  {
   "cell_type": "markdown",
   "id": "illegal-constitutional",
   "metadata": {},
   "source": [
    "But maybe that's not quite what we want -- maybe instead, we'd like to be able to get the *mean* harmonicity values from each of the vowels. Unfortunately, Parselmouth does not yet have the \"Get mean\" function that we found in Praat built in. Luckily though, the author of Parselmouth gave us a way to get around this problem, by using a Parselmouth function called `pcall`. It takes as arguments the Object, the Name of the function in Praat (including any capitalization and ...), and all arguments. "
   ]
  },
  {
   "cell_type": "code",
   "execution_count": 8,
   "id": "conscious-pride",
   "metadata": {},
   "outputs": [
    {
     "name": "stdout",
     "output_type": "stream",
     "text": [
      "4\t10.306\t10.449\t8.79\n",
      "3\t10.541\t10.584\t7.45\n",
      "2\t10.701\t10.742\t4.35\n",
      "1\t10.888\t10.946\tnan\n"
     ]
    }
   ],
   "source": [
    "for v in [v for v in tg_breathy.tier('vowels') if v.text!='']:\n",
    "    # Referencing the Praat Harmonicity object, we can see that 'Get mean...' takes two arguments, a start time and an end time\n",
    "    harm = pcall(h_breathy, 'Get mean...', v.t1, v.t2) \n",
    "    label = v.text\n",
    "    print('\\t'.join([label, \"{:.3f}\".format(v.t1), \"{:.3f}\".format(v.t2), \"{:.2f}\".format(harm)]))"
   ]
  },
  {
   "cell_type": "markdown",
   "id": "mexican-remains",
   "metadata": {},
   "source": [
    "And then let's do it again for the modal example"
   ]
  },
  {
   "cell_type": "code",
   "execution_count": 9,
   "id": "satellite-organizer",
   "metadata": {},
   "outputs": [
    {
     "name": "stdout",
     "output_type": "stream",
     "text": [
      "4\t7.731\t7.801\t14.41\n",
      "3\t7.884\t7.970\t22.04\n",
      "2\t8.094\t8.161\t10.70\n",
      "1\t8.280\t8.390\t7.10\n"
     ]
    }
   ],
   "source": [
    "for v in [v for v in tg_modal.tier('vowels') if v.text!='']:\n",
    "    harm = pcall(h_modal, 'Get mean...', v.t1, v.t2) \n",
    "    label = v.text\n",
    "    print('\\t'.join([label, \"{:.3f}\".format(v.t1), \"{:.3f}\".format(v.t2), \"{:.2f}\".format(harm)]))"
   ]
  },
  {
   "cell_type": "markdown",
   "id": "bigger-anime",
   "metadata": {},
   "source": [
    "From this small test we can see that Harmonicity does seem to do a good job with respect to our perceptions of breathiness! But we'll need many more observations...."
   ]
  }
 ],
 "metadata": {
  "kernelspec": {
   "display_name": "Python 3",
   "language": "python",
   "name": "python3"
  },
  "language_info": {
   "codemirror_mode": {
    "name": "ipython",
    "version": 3
   },
   "file_extension": ".py",
   "mimetype": "text/x-python",
   "name": "python",
   "nbconvert_exporter": "python",
   "pygments_lexer": "ipython3",
   "version": "3.9.1"
  }
 },
 "nbformat": 4,
 "nbformat_minor": 5
}
